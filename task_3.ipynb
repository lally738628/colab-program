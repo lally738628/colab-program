{
  "nbformat": 4,
  "nbformat_minor": 0,
  "metadata": {
    "colab": {
      "provenance": [],
      "authorship_tag": "ABX9TyM+JgLn1OvuZAqndsh+5tPx",
      "include_colab_link": true
    },
    "kernelspec": {
      "name": "python3",
      "display_name": "Python 3"
    },
    "language_info": {
      "name": "python"
    }
  },
  "cells": [
    {
      "cell_type": "markdown",
      "metadata": {
        "id": "view-in-github",
        "colab_type": "text"
      },
      "source": [
        "<a href=\"https://colab.research.google.com/github/lally738628/colab-program/blob/main/task_3.ipynb\" target=\"_parent\"><img src=\"https://colab.research.google.com/assets/colab-badge.svg\" alt=\"Open In Colab\"/></a>"
      ]
    },
    {
      "cell_type": "code",
      "execution_count": 2,
      "metadata": {
        "colab": {
          "base_uri": "https://localhost:8080/"
        },
        "id": "yWFm4XWkoZXc",
        "outputId": "7c0aecdb-f327-4f41-86fc-4152645187a0"
      },
      "outputs": [
        {
          "output_type": "stream",
          "name": "stdout",
          "text": [
            "Weather model solutions (hard-coded): (1.5, 1.0)\n"
          ]
        }
      ],
      "source": [
        "# Stage 1: Hard-coded variables\n",
        "# Weather modeling using the quadratic formula\n",
        "import math\n",
        "\n",
        "# Constants for the quadratic equation ax^2 + bx + c = 0\n",
        "a = 2  # Example coefficient for atmospheric pressure impact\n",
        "b = -5  # Example coefficient for temperature influence\n",
        "c = 3 # Example coefficient for humidity offset\n",
        "\n",
        "def solve_quadratic(a, b, c):\n",
        "    discriminant = b**2 - 4*a*c\n",
        "    if discriminant < 0:\n",
        "        return \"No real solutions\"  # Weather state unstable\n",
        "    root1 = (-b + math.sqrt(discriminant)) / (2 * a)\n",
        "    root2 = (-b - math.sqrt(discriminant)) / (2 * a)\n",
        "    return root1, root2\n",
        "\n",
        "# Output weather model solutions\n",
        "solutions = solve_quadratic(a, b, c)\n",
        "print(\"Weather model solutions (hard-coded):\", solutions)\n"
      ]
    },
    {
      "cell_type": "code",
      "source": [
        "# Stage 2: Keyboard input\n",
        "a = float(input(\"Enter coefficient a (impact of pressure): \"))\n",
        "b = float(input(\"Enter coefficient b (impact of temperature): \"))\n",
        "c = float(input(\"Enter coefficient c (impact of humidity): \"))\n",
        "\n",
        "solutions = solve_quadratic(a, b, c)\n",
        "print(\"Weather model solutions (keyboard input):\", solutions)\n"
      ],
      "metadata": {
        "colab": {
          "base_uri": "https://localhost:8080/"
        },
        "id": "q6TPUw9-psl4",
        "outputId": "b7a642d0-2766-4bb1-fa8a-42861401cc46"
      },
      "execution_count": 3,
      "outputs": [
        {
          "output_type": "stream",
          "name": "stdout",
          "text": [
            "Enter coefficient a (impact of pressure): 2\n",
            "Enter coefficient b (impact of temperature): -5\n",
            "Enter coefficient c (impact of humidity): 3\n",
            "Weather model solutions (keyboard input): (1.5, 1.0)\n"
          ]
        }
      ]
    },
    {
      "cell_type": "code",
      "source": [
        "def read_from_file(filename):\n",
        "    with open(filename, 'r') as file:\n",
        "        lines = file.readlines()\n",
        "    coefficients = [tuple(map(float, line.strip().split(','))) for line in lines]\n",
        "    return coefficients\n",
        "# The lines below were removed as they were causing an error because they were trying to use the lines variable in the global scope.\n",
        "# coefficients = [tuple (map (float, line.strip().split(','))) for line in lines]\n",
        "# return coefficients"
      ],
      "metadata": {
        "id": "Kp7QS6L-2qOD"
      },
      "execution_count": 8,
      "outputs": []
    },
    {
      "cell_type": "code",
      "source": [
        "#creating the single_input.txt file\n",
        "with open(\"single_input.txt\", \"w\") as file:\n",
        "  file.write(\"6\") # replace \"6\" with any number you want to use..\n",
        "  print(\"single_input.txt file created successfully!\")\n"
      ],
      "metadata": {
        "colab": {
          "base_uri": "https://localhost:8080/"
        },
        "id": "C3g7rgar3VgS",
        "outputId": "1a4c2d57-9b4d-417e-e9fa-ad00380212c1"
      },
      "execution_count": 9,
      "outputs": [
        {
          "output_type": "stream",
          "name": "stdout",
          "text": [
            "single_input.txt file created successfully!\n"
          ]
        }
      ]
    },
    {
      "cell_type": "code",
      "source": [
        "# Example: Solve for a single set of inputs\n",
        "def Temperature_modeling(a, b, c, time):\n",
        "    # Dummy definition for Temperature_modeling to make the code run.\n",
        "    return a * time**2 + b * time + c\n",
        "\n",
        "def read_from_file(filename):\n",
        "    with open(filename, 'r') as file:\n",
        "        lines = file.readlines()\n",
        "    #modified to handle a single number input as well\n",
        "    coefficients = [tuple(map(float, line.strip().split(','))) if \",\" in line else (float(line.strip()),) for line in lines]\n",
        "    return coefficients\n",
        "\n",
        "coefficients = read_from_file('single_input.txt') #Correct file name\n",
        "#since we now expect 1 number in the file, let's set a,b,c to some default values and time to that number\n",
        "a = 2\n",
        "b = -5\n",
        "c = 3\n",
        "time = coefficients[0][0] # First and only element in the tuple\n",
        "\n",
        "\n",
        "temperature = Temperature_modeling(a, b, c, time)\n",
        "print(\"read from a file for weather modeling\")\n",
        "print(\"Temperature form keyboard coefficients at time\", time, \"hours:\", Temperature_modeling(a,b,c,time))\n",
        "print(\"Temperature form keyboard coefficients at time\", time, \"hours:\", Temperature_modeling(a,b,c,time))"
      ],
      "metadata": {
        "colab": {
          "base_uri": "https://localhost:8080/"
        },
        "id": "QGYLqXoW4Ogr",
        "outputId": "57f1055c-816d-496d-a271-bf2bb8abf41b"
      },
      "execution_count": 13,
      "outputs": [
        {
          "output_type": "stream",
          "name": "stdout",
          "text": [
            "read from a file for weather modeling\n",
            "Temperature form keyboard coefficients at time 6.0 hours: 45.0\n",
            "Temperature form keyboard coefficients at time 6.0 hours: 45.0\n"
          ]
        }
      ]
    },
    {
      "cell_type": "code",
      "source": [
        "#creating the multiple_inputs.txt file\n",
        "with open(\"multiple_inputs.txt\", \"w\") as file:\n",
        "  file.write(\"10\\n20\\n30\\n40\")\n",
        "  print(\"multiple_inputs.txt file created successfully!\")"
      ],
      "metadata": {
        "colab": {
          "base_uri": "https://localhost:8080/"
        },
        "id": "1_3WEeTx7tC3",
        "outputId": "9609aabf-97d5-47d9-8887-2fb94228930d"
      },
      "execution_count": 21,
      "outputs": [
        {
          "output_type": "stream",
          "name": "stdout",
          "text": [
            "multiple_inputs.txt file created successfully!\n"
          ]
        }
      ]
    },
    {
      "cell_type": "code",
      "source": [
        "# Solve for all sets in the file\n",
        "a = 2\n",
        "b = -5\n",
        "c = 3\n",
        "for idx, time_tuple in enumerate (coefficients):\n",
        "    time = time_tuple[0] # Extract the time from the tuple\n",
        "    temperature = Temperature_modeling(a, b, c,time)\n",
        "    print(\"Temperature form keyboard coefficients at time\", time, \"hours:\", Temperature_modeling(a,b,c,time))"
      ],
      "metadata": {
        "colab": {
          "base_uri": "https://localhost:8080/"
        },
        "id": "LW8Q56Ip8k_z",
        "outputId": "0c77386d-b21a-482f-9369-ba5140fac654"
      },
      "execution_count": 23,
      "outputs": [
        {
          "output_type": "stream",
          "name": "stdout",
          "text": [
            "Temperature form keyboard coefficients at time 6.0 hours: 45.0\n"
          ]
        }
      ]
    }
  ]
}