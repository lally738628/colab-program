{
  "nbformat": 4,
  "nbformat_minor": 0,
  "metadata": {
    "colab": {
      "provenance": [],
      "authorship_tag": "ABX9TyO4M54idtu1hqJu+qzIvL0j",
      "include_colab_link": true
    },
    "kernelspec": {
      "name": "python3",
      "display_name": "Python 3"
    },
    "language_info": {
      "name": "python"
    }
  },
  "cells": [
    {
      "cell_type": "markdown",
      "metadata": {
        "id": "view-in-github",
        "colab_type": "text"
      },
      "source": [
        "<a href=\"https://colab.research.google.com/github/lally738628/colab-program/blob/main/task2.ipynb\" target=\"_parent\"><img src=\"https://colab.research.google.com/assets/colab-badge.svg\" alt=\"Open In Colab\"/></a>"
      ]
    },
    {
      "cell_type": "code",
      "execution_count": null,
      "metadata": {
        "colab": {
          "base_uri": "https://localhost:8080/"
        },
        "id": "ba8D2dbaPjfp",
        "outputId": "e5adf427-88f0-40ad-d472-e9a2b0f4eec9"
      },
      "outputs": [
        {
          "output_type": "stream",
          "name": "stdout",
          "text": [
            "The sum of 15 and 20 is: 35\n"
          ]
        }
      ],
      "source": [
        "# Hardcoded Variables Version\n",
        "# Program: Calculate the sum of two numbers\n",
        "num1= 15\n",
        "num2= 20\n",
        "result = num1 + num2\n",
        "\n",
        "print(f\"The sum of {num1} and {num2} is: {result}\")\n"
      ]
    },
    {
      "cell_type": "code",
      "source": [],
      "metadata": {
        "id": "1bJwXhi4hk6d"
      },
      "execution_count": null,
      "outputs": []
    },
    {
      "cell_type": "code",
      "source": [
        "Reading multiple inputs from a file\n",
        "try:\n",
        "  with open(\"multiple_inputs.txt\",\"r\") as file:\n",
        "    numbers=[int(line.strip()) for line in file.readlines()]\n",
        "    sum=35\n",
        "    for num in numbers:\n",
        "      sum=num\n",
        "      print(f\"read from file (multiple inputs): numbers={numbers},product\")\n",
        "\n",
        "\n",
        "\n",
        "\n",
        "print(\"Error: Could not convert one of the lines to an integer.\")"
      ],
      "metadata": {
        "id": "kOUvJoU6hm63"
      },
      "execution_count": null,
      "outputs": []
    },
    {
      "cell_type": "code",
      "source": [
        "# Keyboard Input Version\n",
        "# Program: Calculate the sum of two numbers\n",
        "num1 = int(input(\"Enter the first number: \"))\n",
        "num2 = int(input(\"Enter the second number: \"))\n",
        "result = num1 + num2\n",
        "\n",
        "print(f\"The sum of {num1} and {num2} is: {result}\")\n"
      ],
      "metadata": {
        "colab": {
          "base_uri": "https://localhost:8080/"
        },
        "id": "OveHKIHeQi88",
        "outputId": "719589cc-6d88-4b47-adb1-e6bf26b314cb"
      },
      "execution_count": null,
      "outputs": [
        {
          "output_type": "stream",
          "name": "stdout",
          "text": [
            "Enter the first number: 15\n",
            "Enter the second number: 20\n",
            "The sum of 15 and 20 is: 35\n"
          ]
        }
      ]
    },
    {
      "cell_type": "code",
      "source": [
        "#Creating the single input.txt file\n",
        "with open(\"single_input.txt\", \"w\") as file:\n",
        "  file.write(\"8\") # Replace \"5\" with any number you want to use.\n",
        "\n",
        "print(\"single_input.txt file created successfully!\")"
      ],
      "metadata": {
        "colab": {
          "base_uri": "https://localhost:8080/"
        },
        "id": "_znWNiJ4RdOg",
        "outputId": "50723745-58ad-4ca8-8416-6a705200aed4"
      },
      "execution_count": null,
      "outputs": [
        {
          "output_type": "stream",
          "name": "stdout",
          "text": [
            "single_input.txt file created successfully!\n"
          ]
        }
      ]
    },
    {
      "cell_type": "code",
      "source": [
        "\n",
        "try:\n",
        "    with open(\"single_input.txt\", \"r\") as file:\n",
        "        x = int(file.read().strip())\n",
        "        result = x + 2  # adding the single input by 2\n",
        "        print(f\"Read from File (Single Input): {x} + 2 = {result}\")\n",
        "except FileNotFoundError:\n",
        "    print(\"Error: single_input.txt not found.\")\n",
        "except ValueError:\n",
        "    print(\"Error: Could not convert data to an integer.\")\n",
        "with open(\"single_input.txt\", \"r\") as file:\n",
        "  x = int(file.read().strip())\n",
        "try:\n",
        "    with open(\"single_input.txt\", \"r\") as file:\n",
        "        x = int(file.read().strip())\n",
        "        result = x + 2  # adding the single input by 2\n",
        "        print(f\"Read from File (Single Input): {x} + 2 = {result}\")\n",
        "except FileNotFoundError:\n",
        "    print(\"Error: single_input.txt not found.\")\n",
        "except ValueError:\n",
        "    print(\"Error: Could not convert data to an integer.\")\n",
        "try:\n",
        "    with open(\"single_input.txt\", \"r\") as file:\n",
        "        x = int(file.read().strip())\n",
        "        result= x + 2 #adding the single input by 2\n",
        "        print(f\"Read from File (Single Input): {x} + 2 = {result}\")\n",
        "except FileNotFoundError:\n",
        "    print(\"Error: single_input.txt not found.\")\n",
        "except ValueError:\n",
        "    print(\"Error: Could not convert data to an integer.\")\n",
        "# The following line was causing the error as it was an except statement without an indented block\n",
        "# except ValueError:\n",
        "try:\n",
        "    with open(\"single_input.txt\", \"r\") as file:\n",
        "        x = int(file.read().strip())\n",
        "        result = x + 2  # adding the single input by 2\n",
        "        print(f\"Read from File (Single Input): {x} + 2 = {result}\")\n",
        "except FileNotFoundError:\n",
        "    print(\"Error: single_input.txt not found.\")\n",
        "except ValueError:\n",
        "    print(\"Error: Could not convert data to an integer.\")\n",
        "with open(\"single_input.txt\", \"r\") as file:\n",
        "  x = int(file.read().strip())\n",
        "try:\n",
        "    with open(\"single_input.txt\", \"r\") as file:\n",
        "        x = int(file.read().strip())\n",
        "        result = x + 2  # adding the single input by 2\n",
        "        print(f\"Read from File (Single Input): {x} + 2 = {result}\")\n",
        "except FileNotFoundError:\n",
        "    print(\"Error: single_input.txt not found.\")\n",
        "except ValueError:\n",
        "    print(\"Error: Could not convert data to an integer.\")\n",
        "try:\n",
        "    with open(\"single_input.txt\", \"r\") as file:\n",
        "        x = int(file.read().strip())\n",
        "        result= x + 2 #adding the single input by 2\n",
        "        print(f\"Read from File (Single Input): {x} + 2 = {result}\")\n",
        "except FileNotFoundError:\n",
        "    print(\"Error: single_input.txt not found.\")\n",
        "except ValueError:\n",
        "    print(\"Error: Could not convert data to an integer.\")\n",
        "#except ValueError:\n",
        "#  print(\"Error: Could not convert data to an integer.\")"
      ],
      "metadata": {
        "colab": {
          "base_uri": "https://localhost:8080/"
        },
        "id": "tQv93sOgT1nE",
        "outputId": "48f2f89e-6350-4255-f5b9-2924b1047ce5"
      },
      "execution_count": null,
      "outputs": [
        {
          "output_type": "stream",
          "name": "stdout",
          "text": [
            "Read from File (Single Input): 8 + 2 = 10\n",
            "Read from File (Single Input): 8 + 2 = 10\n",
            "Read from File (Single Input): 8 + 2 = 10\n",
            "Read from File (Single Input): 8 + 2 = 10\n",
            "Read from File (Single Input): 8 + 2 = 10\n",
            "Read from File (Single Input): 8 + 2 = 10\n"
          ]
        }
      ]
    },
    {
      "cell_type": "code",
      "source": [
        "#creating the multiple_inputs.txt file\n",
        "with open(\"multiple_inputs.txt\", \"w\") as flie: # Changed 'file' to 'flie'\n",
        "  flie.write(\"10\\n20\\n30\\n40\\n50\")\n",
        "  print(\"multiple_inputs.txt file created successfully!\")"
      ],
      "metadata": {
        "colab": {
          "base_uri": "https://localhost:8080/"
        },
        "id": "DSzZkVeWV7nx",
        "outputId": "d65993e2-c288-4019-a910-b213abd56de0"
      },
      "execution_count": null,
      "outputs": [
        {
          "output_type": "stream",
          "name": "stdout",
          "text": [
            "multiple_inputs.txt file created successfully!\n"
          ]
        }
      ]
    },
    {
      "cell_type": "code",
      "source": [
        "#Save Version 1: Hardcoded addition to a file\n",
        "#Save Version 1: Hardcoded addition to a file\n",
        "from google.colab import files\n",
        "with open(\"version_1_hardcoding.py\", \"w\") as file:\n",
        "  file.write(\"\"\"\n",
        "  #Version 1: Hardcoded variables\n",
        "  x=15\n",
        "  y=20\n",
        "  result = x + y\n",
        "  print(f\"Hardcoded Variables: {x} + {y} {result}\")\n",
        "\"\"\")\n",
        "\n",
        "num1= 15\n",
        "num2= 20\n",
        "result = num1 + num2\n",
        "print(f\"Hardcoded Variables: {num1} {num2} {result}\")\n",
        "files.download(\"version_1_hardcoding.py\")"
      ],
      "metadata": {
        "colab": {
          "base_uri": "https://localhost:8080/",
          "height": 34
        },
        "id": "Nc319_BNXXi_",
        "outputId": "b74305cf-7a51-4e62-9b07-026cc4306aa8"
      },
      "execution_count": null,
      "outputs": [
        {
          "output_type": "stream",
          "name": "stdout",
          "text": [
            "Hardcoded Variables: 15 20 35\n"
          ]
        },
        {
          "output_type": "display_data",
          "data": {
            "text/plain": [
              "<IPython.core.display.Javascript object>"
            ],
            "application/javascript": [
              "\n",
              "    async function download(id, filename, size) {\n",
              "      if (!google.colab.kernel.accessAllowed) {\n",
              "        return;\n",
              "      }\n",
              "      const div = document.createElement('div');\n",
              "      const label = document.createElement('label');\n",
              "      label.textContent = `Downloading \"${filename}\": `;\n",
              "      div.appendChild(label);\n",
              "      const progress = document.createElement('progress');\n",
              "      progress.max = size;\n",
              "      div.appendChild(progress);\n",
              "      document.body.appendChild(div);\n",
              "\n",
              "      const buffers = [];\n",
              "      let downloaded = 0;\n",
              "\n",
              "      const channel = await google.colab.kernel.comms.open(id);\n",
              "      // Send a message to notify the kernel that we're ready.\n",
              "      channel.send({})\n",
              "\n",
              "      for await (const message of channel.messages) {\n",
              "        // Send a message to notify the kernel that we're ready.\n",
              "        channel.send({})\n",
              "        if (message.buffers) {\n",
              "          for (const buffer of message.buffers) {\n",
              "            buffers.push(buffer);\n",
              "            downloaded += buffer.byteLength;\n",
              "            progress.value = downloaded;\n",
              "          }\n",
              "        }\n",
              "      }\n",
              "      const blob = new Blob(buffers, {type: 'application/binary'});\n",
              "      const a = document.createElement('a');\n",
              "      a.href = window.URL.createObjectURL(blob);\n",
              "      a.download = filename;\n",
              "      div.appendChild(a);\n",
              "      a.click();\n",
              "      div.remove();\n",
              "    }\n",
              "  "
            ]
          },
          "metadata": {}
        },
        {
          "output_type": "display_data",
          "data": {
            "text/plain": [
              "<IPython.core.display.Javascript object>"
            ],
            "application/javascript": [
              "download(\"download_f3551d5d-5f1b-45b5-9a0e-0bb9b6d443fe\", \"version_1_hardcoding.py\", 119)"
            ]
          },
          "metadata": {}
        }
      ]
    }
  ]
}